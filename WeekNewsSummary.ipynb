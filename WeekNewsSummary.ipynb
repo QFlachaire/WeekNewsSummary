{
  "nbformat": 4,
  "nbformat_minor": 0,
  "metadata": {
    "colab": {
      "name": "NewsSummary.ipynb",
      "provenance": [],
      "collapsed_sections": []
    },
    "kernelspec": {
      "name": "python3",
      "display_name": "Python 3"
    },
    "language_info": {
      "name": "python"
    }
  },
  "cells": [
    {
      "cell_type": "markdown",
      "source": [
        "# Introduction\n",
        "Ce projet a pour but de réaliser un résumé en qq phrases de l'actualité sur quelques jours.\n",
        "Le thémé choisi pour ce test est l'éléction présidentielle de 2022\n",
        "\n",
        "# Scrapping\n",
        "Premiere partie: le scrapping. Je vais scrapper ici les articles les plus récents de 3 grands journaux francais: Le Monde, Libéartion et Le Figaro.\n",
        "Ces 3 sites comportent une section consacrée aux élections.\n",
        "\n",
        "Malheureusement je ne possede pas de compte abonné pour ces trois sites, j'espere que seul les articles non-abonnés suffiront.\n",
        "\n",
        "## Récupération des liens\n",
        "\n",
        "## Le Monde\n",
        "Premier journal de notre trio, je pensais pouvoir réutiliser le code de Quentin Gibon présent [ici](https://github.com/QuentinGib/WebNews_Summary/blob/main/LeMonde_Scrapping.ipynb), mais l'architecture du site de Le Monde a changé depuis."
      ],
      "metadata": {
        "id": "nciIcIvbLviN"
      }
    },
    {
      "cell_type": "code",
      "source": [
        "articles = {}\n",
        "for typ in [\"nbPrem\", \"nbOk\"]:\n",
        "  articles[typ] = {\"LeM\" : 0, \"Lib\" : 0, \"Fig\" : 0 }\n",
        "articles[\"links\"] = {\"LeM\" : [], \"Lib\" : [], \"Fig\" : [] }\n",
        "articles"
      ],
      "metadata": {
        "colab": {
          "base_uri": "https://localhost:8080/"
        },
        "id": "fR_gzglTStXE",
        "outputId": "27705b8d-3f8d-4da9-ccd1-1a703ac45c2b"
      },
      "execution_count": null,
      "outputs": [
        {
          "output_type": "execute_result",
          "data": {
            "text/plain": [
              "{'links': {'Fig': [], 'LeM': [], 'Lib': []},\n",
              " 'nbOk': {'Fig': 0, 'LeM': 0, 'Lib': 0},\n",
              " 'nbPrem': {'Fig': 0, 'LeM': 0, 'Lib': 0}}"
            ]
          },
          "metadata": {},
          "execution_count": 1
        }
      ]
    },
    {
      "cell_type": "code",
      "source": [
        "import requests\n",
        "from bs4 import BeautifulSoup\n",
        "from lxml import html\n",
        "\n",
        "requete = requests.get(\"https://www.lemonde.fr/election-presidentielle-2022/\")\n",
        "page = requete.content\n",
        "soupAccueil = BeautifulSoup(page)"
      ],
      "metadata": {
        "id": "a_jWGykgyIES"
      },
      "execution_count": null,
      "outputs": []
    },
    {
      "cell_type": "code",
      "source": [
        "results = soupAccueil.find_all(\"div\", {\"class\": \"thread\"})\n"
      ],
      "metadata": {
        "id": "WJG7vJJ02UsH"
      },
      "execution_count": null,
      "outputs": []
    },
    {
      "cell_type": "code",
      "source": [
        "articles[\"nbPrem\"][\"LeM\"], articles[\"nbOk\"][\"LeM\"] = 0, 0\n",
        "articles[\"links\"][\"LeM\"] = []\n",
        "\n",
        "nbLive = 0 #Seulement Le Monde réalise des Live\n",
        "\n",
        "for r in results:\n",
        "  if r.a.find(\"span\", {\"class\": \"icon__premium\"}) is not None:\n",
        "    articles[\"nbPrem\"][\"LeM\"] += 1\n",
        "    continue\n",
        "  elif r.a.find(\"span\", {\"class\": \"sr-only\"}) is not None:\n",
        "    nbLive += 1\n",
        "    continue\n",
        "  else:\n",
        "    articles[\"links\"][\"LeM\"].append(r.a[\"href\"])\n",
        "    articles[\"nbOk\"][\"LeM\"] += 1\n",
        "nbLive, articles"
      ],
      "metadata": {
        "id": "VRbr-rS137LZ"
      },
      "execution_count": null,
      "outputs": []
    },
    {
      "cell_type": "markdown",
      "source": [
        "## Libération\n",
        "\n",
        "Pour ce journal l'utilisation de Selenium afin de simuler un navigateur est nécéssaire car les liens ne sont pas visibles sinon."
      ],
      "metadata": {
        "id": "pvcxiwNGEP3s"
      }
    },
    {
      "cell_type": "code",
      "source": [
        "!pip install selenium\n",
        "!apt-get update\n",
        "!apt install chromium-chromedriver\n",
        "\n",
        "from selenium import webdriver\n",
        "chrome_options = webdriver.ChromeOptions()\n",
        "chrome_options.add_argument('--headless')\n",
        "chrome_options.add_argument('--no-sandbox')\n",
        "chrome_options.add_argument('--disable-dev-shm-usage')\n",
        "driver = webdriver.Chrome('chromedriver',options=chrome_options)"
      ],
      "metadata": {
        "id": "wEZszSWZEPXj"
      },
      "execution_count": null,
      "outputs": []
    },
    {
      "cell_type": "code",
      "source": [
        "driver = webdriver.Chrome('chromedriver',options=chrome_options)\n",
        "driver.maximize_window()\n",
        "url = \"https://www.liberation.fr/dossier/election-presidentielle-2022/\"\n",
        "driver.get(url)"
      ],
      "metadata": {
        "id": "zyAVXmaFEaR7"
      },
      "execution_count": null,
      "outputs": []
    },
    {
      "cell_type": "code",
      "source": [
        "soupAccueil = BeautifulSoup(driver.page_source, \"html5lib\")"
      ],
      "metadata": {
        "id": "lmcnNd4UEyVh"
      },
      "execution_count": null,
      "outputs": []
    },
    {
      "cell_type": "code",
      "source": [
        "results = soupAccueil.find_all(\"article\", {\"class\": \"flex border border_solid border_bottom border_color_grey_2 margin-lg-bottom padding-lg-bottom large-promo\"})"
      ],
      "metadata": {
        "id": "z0yHSmYi928j"
      },
      "execution_count": null,
      "outputs": []
    },
    {
      "cell_type": "code",
      "source": [
        "articles[\"nbPrem\"][\"Lib\"], articles[\"nbOk\"][\"Lib\"] = 0, 0\n",
        "articles[\"links\"][\"Lib\"] = []\n",
        "for r in results:\n",
        "  if r.find(\"span\", {\"class\": \"color_yellow_2 font_xs font_tertiary undefined\"}) is not None:\n",
        "    articles[\"nbPrem\"][\"Lib\"] += 1\n",
        "    continue\n",
        "  else:\n",
        "    articles[\"nbOk\"][\"Lib\"] += 1\n",
        "    articles[\"links\"][\"Lib\"].append(\"https://www.liberation.fr\" + r.a[\"href\"])\n",
        "articles"
      ],
      "metadata": {
        "id": "t1E7Cez-03va"
      },
      "execution_count": null,
      "outputs": []
    },
    {
      "cell_type": "markdown",
      "source": [
        "## Figaro\n",
        "Je choisis de réutiliser Selenium afin de ne pas avoir de mauvaise surprises.\n"
      ],
      "metadata": {
        "id": "GGPuT0P5Hgpi"
      }
    },
    {
      "cell_type": "code",
      "source": [
        "url = \"https://www.lefigaro.fr/elections/presidentielles\"\n",
        "driver.get(url)\n",
        "soupAccueil = BeautifulSoup(driver.page_source, \"html5lib\")"
      ],
      "metadata": {
        "id": "fcWjYk2x1V7S"
      },
      "execution_count": null,
      "outputs": []
    },
    {
      "cell_type": "code",
      "source": [
        "results = soupAccueil.find_all(\"article\", {\"class\": [\"fig-profile fig-container fig-profile--main fig-profile--fp fig-profile--article\", \"fig-profile fig-container fig-profile--main fig-profile--fp fig-profile--newsflash\",\n",
        "                                                     \"fig-profile fig-container fig-profile--bottom fig-profile--fp fig-profile--article\", \"fig-profile fig-container fig-profile--bottom fig-profile--fp fig-profile--newsflash\"]})"
      ],
      "metadata": {
        "id": "Q6-crvTUISod"
      },
      "execution_count": null,
      "outputs": []
    },
    {
      "cell_type": "code",
      "source": [
        "articles[\"nbPrem\"][\"Fig\"], articles[\"nbOk\"][\"Fig\"] = 0, 0\n",
        "articles[\"links\"][\"Fig\"] = []\n",
        "\n",
        "for r in results:\n",
        "  articles[\"nbOk\"][\"Fig\"] += 1\n",
        "  articles[\"links\"][\"Fig\"].append(r.a[\"href\"])\n",
        "\n",
        "articles"
      ],
      "metadata": {
        "colab": {
          "base_uri": "https://localhost:8080/"
        },
        "id": "nfj4UJgGIUat",
        "outputId": "d5cece2e-449e-4297-f035-c3fe7c665019"
      },
      "execution_count": null,
      "outputs": [
        {
          "output_type": "execute_result",
          "data": {
            "text/plain": [
              "{'links': {'Fig': ['https://www.lefigaro.fr/politique/les-propos-de-macron-enflamment-la-campagne-20220105',\n",
              "   'https://www.lefigaro.fr/elections/presidentielles/presidentielle-2022-emmanuel-macron-donne-largement-en-tete-loin-devant-pecresse-et-le-pen-20220105',\n",
              "   'https://www.lefigaro.fr/elections/presidentielles/emmerder-faineants-bordel-le-langage-choc-de-macron-20220105',\n",
              "   'https://www.lefigaro.fr/elections/presidentielles/indigne-siderant-vulgaire-la-sortie-d-emmanuel-macron-sur-les-non-vaccines-enflamme-la-classe-politique-20220105',\n",
              "   'https://www.lefigaro.fr/elections/presidentielles/presidentielle-la-victoire-est-a-portee-de-main-assure-eric-zemmour-20220104',\n",
              "   'https://www.lefigaro.fr/elections/presidentielles/covid-19-emmanuel-macron-a-tres-envie-d-emmerder-les-non-vaccines-20220104',\n",
              "   'https://www.lefigaro.fr/flash-actu/presidentielle-macron-fait-du-covid-un-piege-pour-en-faire-le-sujet-de-la-presidentielle-selon-zemmour-20220104',\n",
              "   'https://www.lefigaro.fr/elections/presidentielles/presidentielle-2022-a-pantin-pecresse-devoile-son-plan-pour-lutter-contre-les-violences-conjugales-20220104',\n",
              "   'https://www.lefigaro.fr/elections/presidentielles/presidentielle-2022-toutes-les-dates-a-venir-de-l-annee-electorale-20220104',\n",
              "   'https://www.lefigaro.fr/elections/presidentielles/presidentielle-2022-pecresse-presente-un-organigramme-de-campagne-avec-tout-le-monde-a-bord-20220104',\n",
              "   'https://www.lefigaro.fr/elections/presidentielles/presidentielle-2022-schiappa-demande-a-pecresse-qui-est-soutenue-par-gims-de-s-expliquer-sur-les-propos-du-rappeur-20220103',\n",
              "   'https://www.lefigaro.fr/flash-actu/covid-19-marine-le-pen-decale-de-trois-semaines-son-grand-meeting-du-15-janvier-20220103',\n",
              "   'https://www.lefigaro.fr/elections/presidentielles/presidentielle-2022-plutot-que-des-jauges-melenchon-et-roussel-vont-distribuer-des-masques-ffp2-durant-leurs-meetings-20220103',\n",
              "   'https://www.lefigaro.fr/elections/presidentielles/presidentielle-2022-manuel-valls-publie-un-livre-pour-combattre-eric-zemmour-20220103',\n",
              "   'https://www.lefigaro.fr/elections/presidentielles/drapeau-europeen-sous-l-arc-de-triomphe-macron-a-un-probleme-avec-l-histoire-de-france-deplore-pecresse-20220103',\n",
              "   'https://www.lefigaro.fr/elections/presidentielles/eric-ciotti-estime-qu-emmanuel-macron-n-aime-pas-la-france-20220102',\n",
              "   'https://www.lefigaro.fr/elections/presidentielles/pour-eric-dupond-moretti-eric-zemmour-favorise-l-expression-decomplexee-de-la-violence-20220101',\n",
              "   'https://www.lefigaro.fr/elections/presidentielles/presidentielle-2022-valerie-pecresse-appliquera-les-jauges-et-exigera-le-passe-vaccinal-dans-ses-meetings-20211231',\n",
              "   'https://www.lefigaro.fr/elections/presidentielles/presidentielle-2022-rousseau-invite-jadot-a-passer-des-coups-de-fil-a-gauche-pour-former-l-union-20211228',\n",
              "   'https://www.lefigaro.fr/elections/presidentielles/cote-d-ivoire-zemmour-dit-avoir-respecte-scrupuleusement-les-conditions-exigees-20211224',\n",
              "   'https://www.lefigaro.fr/flash-actu/une-enquete-ouverte-pour-injure-envers-marine-le-pen-sur-un-vehicule-20211224',\n",
              "   'https://www.lefigaro.fr/elections/presidentielles/zemmour-a-abidjan-le-ministere-des-armees-regrette-qu-il-n-ait-pas-respecte-son-engagement-moral-vis-a-vis-des-militaires-20211223',\n",
              "   'https://www.lefigaro.fr/elections/presidentielles/presidentielle-2022-apres-sandrine-rousseau-marine-le-pen-egalement-visee-par-des-tags-pro-zemmour-20211223',\n",
              "   'https://www.lefigaro.fr/elections/presidentielles/eric-zemmour-en-cote-d-ivoire-pour-un-noel-avec-les-soldats-francais-20211223',\n",
              "   'https://www.lefigaro.fr/elections/presidentielles/presidentielle-2022-florian-philippot-appelle-a-l-union-sacree-des-candidats-opposes-au-passe-vaccinal-20211223',\n",
              "   'https://www.lefigaro.fr/elections/presidentielles/presidentielle-2022-christiane-taubira-donnee-a-7-au-premier-tour-selon-un-sondage-20211223',\n",
              "   'https://www.lefigaro.fr/elections/presidentielles/presidentielle-2022-hidalgo-n-a-absolument-pas-l-intention-de-se-retirer-pour-taubira-20211223',\n",
              "   'https://www.lefigaro.fr/elections/presidentielles/presidentielle-2022-lrem-lance-son-bingo-pour-convaincre-les-francais-a-noel-20211222',\n",
              "   'https://www.lefigaro.fr/elections/presidentielles/presidentielle-2022-pour-pecresse-la-securite-de-l-europe-et-de-la-france-se-joue-ici-en-armenie-20211222',\n",
              "   'https://www.lefigaro.fr/elections/presidentielles/covid-19-les-echeances-democratiques-seront-maintenues-assure-macron-pour-ecarter-un-report-de-la-presidentielle-2022-20211222'],\n",
              "  'LeM': ['https://www.lemonde.fr/election-presidentielle-2022/article/2022/01/05/presidentielle-2022-jean-luc-melenchon-promet-un-meeting-immersif-le-16-janvier-a-nantes_6108301_6059010.html',\n",
              "   'https://www.lemonde.fr/election-presidentielle-2022/article/2022/01/04/francois-ruffin-s-annonce-a-un-meeting-de-la-france-insoumise-en-guise-de-soutien-officiel-a-jean-luc-melenchon_6108179_6059010.html',\n",
              "   'https://www.lemonde.fr/election-presidentielle-2022/article/2022/01/04/valerie-pecresse-presente-son-equipe-de-campagne-et-son-nouveau-qg-pour-l-election-presidentielle_6108171_6059010.html',\n",
              "   'https://www.lemonde.fr/politique/appel-temoignages/2022/01/03/election-presidentielle-2022-vous-etes-sympathisant-e-de-gauche-racontez-nous-votre-etat-d-esprit_6108066_823448.html',\n",
              "   'https://www.lemonde.fr/election-presidentielle-2022/article/2022/01/03/marine-le-pen-decale-son-premier-grand-meeting-de-campagne-en-raison-de-la-pandemie-de-covid-19_6108040_6059010.html',\n",
              "   'https://www.lemonde.fr/election-presidentielle-2022/article/2022/01/03/jean-luc-melenchon-rejette-une-nouvelle-fois-une-primaire-a-gauche_6108011_6059010.html',\n",
              "   'https://www.lemonde.fr/politique/article/2022/01/02/aurore-berge-appelle-a-un-front-commun-contre-la-violence-visant-les-elus_6107917_823448.html',\n",
              "   'https://www.lemonde.fr/politique/article/2022/01/01/drapeau-europeen-sous-l-arc-de-triomphe-clement-beaune-defend-une-initiative-symbolique-et-temporaire-face-aux-critiques_6107881_823448.html',\n",
              "   'https://www.lemonde.fr/politique/article/2021/12/31/fabien-roussel-et-jean-luc-melenchon-fourniront-des-masques-ffp2-a-l-entree-de-leurs-meetings_6107822_823448.html',\n",
              "   'https://www.lemonde.fr/politique/article/2021/12/31/annee-cruciale-adieu-macron-les-candidats-a-l-election-presidentielle-devancent-le-chef-de-l-etat-pour-les-v-ux_6107808_823448.html',\n",
              "   'https://www.lemonde.fr/politique/article/2021/12/30/presidentielle-2022-valerie-pecresse-veut-appliquer-les-jauges-et-le-passe-sanitaire-dans-ses-meetings_6107738_823448.html',\n",
              "   'https://www.lemonde.fr/politique/article/2021/12/29/presidentielle-et-covid-19-les-meetings-du-rassemblement-national-et-de-la-france-insoumise-n-auront-pas-de-jauge_6107615_823448.html',\n",
              "   'https://www.lemonde.fr/election-presidentielle-2022/article/2021/12/28/election-presidentielle-2022-la-republique-en-marche-appliquera-les-jauges-de-public-pendant-la-campagne_6107521_6059010.html',\n",
              "   'https://www.lemonde.fr/politique/article/2021/12/24/election-presidentielle-2022-la-candidature-de-moins-en-moins-hypothetique-de-christiane-taubira_6107203_823448.html',\n",
              "   'https://www.lemonde.fr/societe/article/2021/12/22/alexis-corbiere-et-raquel-garrido-deposent-plainte-pour-menace-de-mort_6106993_3224.html',\n",
              "   'https://www.lemonde.fr/politique/article/2021/12/19/presidentielle-2022-plus-de-1-500-elus-appellent-a-l-union-de-la-gauche_6106724_823448.html',\n",
              "   'https://www.lemonde.fr/politique/video/2021/12/19/questions-politiques-en-direct-barbara-pompili-ministre-de-la-transition-ecologique-est-l-invitee-de-l-emission_6106695_823448.html',\n",
              "   'https://www.lemonde.fr/election-presidentielle-2022/article/2021/12/18/a-saint-denis-christiane-taubira-suscite-l-espoir-de-ses-soutiens-et-reste-prudente-sur-la-politique-vaccinale_6106641_6059010.html',\n",
              "   'https://www.lemonde.fr/election-presidentielle-2022/article/2021/12/18/christiane-taubira-annonce-son-soutien-a-la-primaire-populaire-dernier-espace-pour-construire-l-union-de-la-gauche_6106637_6059010.html',\n",
              "   'https://www.lemonde.fr/election-presidentielle-2022/article/2021/12/17/election-presidentielle-2022-emmanuel-macron-entame-son-bilan-christiane-taubira-envisage-d-etre-candidate-le-recap-politique-de-la-semaine_6106534_6059010.html',\n",
              "   'https://www.lemonde.fr/election-presidentielle-2022/article/2021/12/17/christiane-taubira-espere-rebattre-les-cartes-a-gauche-anne-hidalgo-veut-travailler-a-une-plate-forme-commune-en-vue-de-l-election-presidentielle_6106500_6059010.html'],\n",
              "  'Lib': ['https://www.liberation.fr/idees-et-debats/editorial/emmerder-les-non-vaccines-le-pari-dangereux-demmanuel-macron-20220105_C3BPE7IKYVB4FJBFUUJ73ZQ6PI/',\n",
              "   'https://www.liberation.fr/politique/elections/les-sondages-de-janvier-donnent-rarement-le-resultat-de-lelection-presidentielle-20220105_T3MMYWMNGJFO5B6A6D654ADTNE/',\n",
              "   'https://www.liberation.fr/politique/elections/libe-donne-la-parole-a-ceux-qui-ne-veulent-plus-voter-20220103_UQESTBZKPVGNDOJ2YGO5QMB3V4/',\n",
              "   'https://www.liberation.fr/politique/en-direct-suivez-les-derniers-voeux-du-quinquennat-demmanuel-macron-20211231_TNY3YES4TNFPPNXETKN5NJZXE4/',\n",
              "   'https://www.liberation.fr/politique/elections/pour-ses-voeux-macron-se-rappelle-au-bon-souvenir-des-electeurs-de-gauche-20211231_M4G4P72Y4ZGBHKCAZHCBGMC2L4/',\n",
              "   'https://www.liberation.fr/politique/quelle-france-voulons-nous-hidalgo-le-pen-jadot-des-voeux-2022-au-gout-tres-politique-20211231_RBSTSH6UFVADNB6V3DUMCJE3JM/',\n",
              "   'https://www.liberation.fr/politique/elections/derniers-voeux-avant-de-se-representer-le-mode-demploi-de-giscard-mitterrand-chirac-et-sarkozy-20211231_SGVLANYTHZFYBABEXITC523FE4/',\n",
              "   'https://www.liberation.fr/politique/emmanuel-macron-a-t-il-tenu-ses-promesses-democratiques-20211231_THVWZIKED5D4XP2DY5ZDPF5WJI/',\n",
              "   'https://www.liberation.fr/politique/elections/pour-qui-roule-le-ministere-secret-20211231_CUXM5PNZJFCELHAX553CXGEQMU/']},\n",
              " 'nbOk': {'Fig': 30, 'LeM': 21, 'Lib': 9},\n",
              " 'nbPrem': {'Fig': 0, 'LeM': 38, 'Lib': 21}}"
            ]
          },
          "metadata": {},
          "execution_count": 12
        }
      ]
    },
    {
      "cell_type": "markdown",
      "source": [
        "Le scrapping de Libération fut deja bien plus rapide que celui du Monde, mais celui du Figaro l'a été encore plus maintenat que j'ai pris le plis.\n",
        "\n",
        "Nous voila avec 61 articles, majoritairement issus des deux plus grands journaux francais, Le Monde et Le Figaro (selon le nombre de lecteurs) respectivement centre gauche et droite, les 10 articles supplémentaires issus de Libération permettent de rééquilibrer un peu la balance.\n",
        "\n",
        "Cet echantillion est eviddement trés peu représentatif, mais pour un premier jet, cela sera amplement suffisant."
      ],
      "metadata": {
        "id": "TxpBMsCXN1zh"
      }
    },
    {
      "cell_type": "markdown",
      "source": [
        "## Récupération des articles"
      ],
      "metadata": {
        "id": "bJFmYUv9Yp6y"
      }
    },
    {
      "cell_type": "code",
      "source": [
        "import pandas as pd\n",
        "df = pd.DataFrame(columns = ['links', 'content'])"
      ],
      "metadata": {
        "id": "UFqzDqDXhEAp"
      },
      "execution_count": null,
      "outputs": []
    },
    {
      "cell_type": "markdown",
      "source": [
        "# Le Monde"
      ],
      "metadata": {
        "id": "2ipohcxiyOEw"
      }
    },
    {
      "cell_type": "code",
      "source": [
        "for link in articles[\"links\"][\"LeM\"]:\n",
        "  requete = requests.get(link)\n",
        "  page = requete.content\n",
        "  soupAccueil = BeautifulSoup(page)\n",
        "  results = soupAccueil.find_all(\"p\", {\"class\": \"article__paragraph \"})\n",
        "  content = \"\"\n",
        "  for r in results:\n",
        "    content +=  r.text + \" \"\n",
        "  df = df.append({\"links\": link, \"content\": content}, ignore_index=True)\n"
      ],
      "metadata": {
        "id": "bEdo1bEJhZLX"
      },
      "execution_count": null,
      "outputs": []
    },
    {
      "cell_type": "markdown",
      "source": [
        "# Libération"
      ],
      "metadata": {
        "id": "SP_baLDqlKqB"
      }
    },
    {
      "cell_type": "code",
      "source": [
        "for link in articles[\"links\"][\"Lib\"]:\n",
        "  requete = requests.get(link)\n",
        "  page = requete.content\n",
        "  soupAccueil = BeautifulSoup(page)\n",
        "  results = soupAccueil.find_all(\"p\", {\"class\": \"article_link\"})\n",
        "  content = \"\"\n",
        "  for r in results:\n",
        "    content +=  r.text + \" \"\n",
        "  df = df.append({\"links\": link, \"content\": content}, ignore_index=True)\n"
      ],
      "metadata": {
        "id": "29Yh8Q8VlOA2"
      },
      "execution_count": null,
      "outputs": []
    },
    {
      "cell_type": "markdown",
      "source": [
        "# Le Figaro"
      ],
      "metadata": {
        "id": "6842HQBEmWKJ"
      }
    },
    {
      "cell_type": "code",
      "source": [
        "for link in articles[\"links\"][\"Fig\"]:\n",
        "  requete = requests.get(link)\n",
        "  page = requete.content\n",
        "  soupAccueil = BeautifulSoup(page)\n",
        "  results = soupAccueil.find_all(\"p\", {\"class\": \"fig-paragraph\"})\n",
        "  content = \"\"\n",
        "  for r in results:\n",
        "    content +=  r.text + \" \"\n",
        "  df = df.append({\"links\": link, \"content\": content}, ignore_index=True)"
      ],
      "metadata": {
        "id": "a1nlo5X6mcqF"
      },
      "execution_count": null,
      "outputs": []
    },
    {
      "cell_type": "code",
      "source": [
        "import pandas as pd\n",
        "from google.colab import drive\n",
        "drive.mount('/content/gdrive')"
      ],
      "metadata": {
        "id": "k5d1pTjdoP7x",
        "colab": {
          "base_uri": "https://localhost:8080/"
        },
        "outputId": "440e0076-6141-4dcc-f8eb-81b8a1cb971c"
      },
      "execution_count": 3,
      "outputs": [
        {
          "output_type": "stream",
          "name": "stdout",
          "text": [
            "Drive already mounted at /content/gdrive; to attempt to forcibly remount, call drive.mount(\"/content/gdrive\", force_remount=True).\n"
          ]
        }
      ]
    },
    {
      "cell_type": "code",
      "source": [
        "df = pd.read_pickle(\"/content/gdrive/MyDrive/Colab_Files/Articles/df\")"
      ],
      "metadata": {
        "id": "v7cRtXmKoY5I"
      },
      "execution_count": 38,
      "outputs": []
    },
    {
      "cell_type": "code",
      "source": [
        "df.head(), len(df)"
      ],
      "metadata": {
        "colab": {
          "base_uri": "https://localhost:8080/"
        },
        "id": "Dz3ufMAUinFV",
        "outputId": "afff1db9-aa42-4591-cf5c-35d39f44557e"
      },
      "execution_count": 39,
      "outputs": [
        {
          "output_type": "execute_result",
          "data": {
            "text/plain": [
              "(                                               links                                            content\n",
              " 0  https://www.lemonde.fr/election-presidentielle...  Jean-Luc Mélenchon, qui embarque pour sa trois...\n",
              " 1  https://www.lemonde.fr/election-presidentielle...  Il était jusqu’ici resté discret, tant sur la ...\n",
              " 2  https://www.lemonde.fr/election-presidentielle...  Un pas de plus dans l’accélération de la cours...\n",
              " 3  https://www.lemonde.fr/politique/appel-temoign...  A moins de cent jours de l’élection présidenti...\n",
              " 4  https://www.lemonde.fr/election-presidentielle...  Le Covid-19 n’a pas fini de perturber la campa...,\n",
              " 60)"
            ]
          },
          "metadata": {},
          "execution_count": 39
        }
      ]
    },
    {
      "cell_type": "code",
      "source": [
        "#Suppression de certains articles avec des bugs de scrappings.\n",
        "df = df[~df['content'].str.contains(\"Ã\")]\n",
        "\n",
        "#Suppression de coquilles récurentes\n",
        "df[\"content\"] = df[\"content\"].apply(lambda x: x.replace('\\xa0', ' '))"
      ],
      "metadata": {
        "colab": {
          "base_uri": "https://localhost:8080/"
        },
        "id": "ePgF-QyCv2q4",
        "outputId": "9bfa031f-59ea-4f4e-f8ec-f06ebde49b04"
      },
      "execution_count": 40,
      "outputs": [
        {
          "output_type": "stream",
          "name": "stderr",
          "text": [
            "/usr/local/lib/python3.7/dist-packages/ipykernel_launcher.py:5: SettingWithCopyWarning: \n",
            "A value is trying to be set on a copy of a slice from a DataFrame.\n",
            "Try using .loc[row_indexer,col_indexer] = value instead\n",
            "\n",
            "See the caveats in the documentation: https://pandas.pydata.org/pandas-docs/stable/user_guide/indexing.html#returning-a-view-versus-a-copy\n",
            "  \"\"\"\n"
          ]
        }
      ]
    },
    {
      "cell_type": "markdown",
      "source": [
        "Les articles ont tous été scrappé, nettoyé, et sont désormais dans un dataframe.\n",
        "\n",
        "#Extractive Summarization\n",
        "\n",
        "Dans cette partie, nous allons utiliser BERT, un model cree par Google en 2018.\n",
        "BERT est un des modele de NLP les plus performants et possede surtout plusieurs variante en francais, dont CamemBERT, que nous allons utiliser aujourd'hui.\n",
        "\n",
        "\n",
        "Je privilegie l'utilisation de moyenne par cluster pour ce projet. En effet il existe beaucoup de sujet différent traité lors du campagne présidentielle, et les articles publiés sur qq jours ratisse un trés grand nombre de sujet.\n",
        "On cherche donc à retrouver les phrases représentant le mieux certains cluster.\n",
        "\n",
        "La tokenisation sera faite via NLTK.punkt il creer une liste de phrase ou de bout de phrase que le model pourra analyser.\n",
        "L'embedding va etre réaliser grace à BERT.\n",
        "\n",
        "\n",
        "Ceci est fait avec le code suivant:"
      ],
      "metadata": {
        "id": "w8FQUP1X7KQ6"
      }
    },
    {
      "cell_type": "code",
      "source": [
        "!pip install transformers\n",
        "!pip install bert-extractive-summarizer\n",
        "!pip install sentencepiece\n",
        "!pip install neuralcoref --no-binary neuralcoref\n",
        "!python3 -m spacy download fr_core_news_md\n",
        "!pip install omegaconf\n",
        "!pip install hydra-core\n",
        "!pip3 install spacy\n",
        "!pip install bitarray\n",
        "!pip install -U sentence-transformers\n",
        "\n",
        "from sklearn.cluster import KMeans\n",
        "from transformers import FlaubertModel, FlaubertTokenizer\n",
        "import fr_core_news_sm\n",
        "import fr_core_news_md\n",
        "import numpy as np\n",
        "import torch\n",
        "import nltk\n",
        "nltk.download(\"punkt\")"
      ],
      "metadata": {
        "id": "2fsFV2PCdTug"
      },
      "execution_count": null,
      "outputs": []
    },
    {
      "cell_type": "code",
      "source": [
        "class Summarizer():\n",
        "\n",
        "  def __init__(self):\n",
        "    self.nlp = fr_core_news_md.load()\n",
        "    self.stop_words = stopwords.words('french')\n",
        "\n",
        "###### Load Model Methods ######\n",
        "\n",
        "  def init_model(self, device=None, log=False):\n",
        "    # Choosing device for language model\n",
        "    if device is None:\n",
        "      device = torch.device(\"cuda\" if torch.cuda.is_available() else \"cpu\")\n",
        "    self.device = device\n",
        "\n",
        "    model_name = 'camembert'\n",
        "    self.model = torch.hub.load('pytorch/fairseq', 'camembert')\n",
        "    self.model_name = model_name\n",
        "\n",
        "    # Model Inference\n",
        "    self.model.to(self.device)\n",
        "    self.model.eval()\n",
        "\n",
        "    # Log Info\n",
        "    if log:\n",
        "      self.init_log(self.model_name, self.device)\n",
        "\n",
        "  def init_log(self, model_name, device):\n",
        "    print(f'Summarizer: \\'{model_name}\\' successfully loaded on {device}.')\n",
        "\n",
        "  def to(self, device):\n",
        "    \"\"\"\n",
        "    Moves and/or casts the NLP model parameters and buffers.\n",
        "    Parameters\n",
        "    ----------\n",
        "      device: string | device name.\n",
        "    \"\"\"\n",
        "\n",
        "    self.device = device\n",
        "    self.model.to(device)\n",
        "\n",
        "###### \"FIT\" methods ######\n",
        "\n",
        "  def fit(self, text, log=True):\n",
        "    # Embed all the text\n",
        "    try:\n",
        "      if not isinstance(text, pd.core.series.Series):\n",
        "        text = pd.Series(text)\n",
        "    except:\n",
        "      print('Data input error: text should be a numpy ndarray or a pandas '\n",
        "            'series of str sentences')\n",
        "      return\n",
        "    \n",
        "    self.text = text.to_numpy()\n",
        "    self.text_embeddings = self.camembert_text_embedding(self.text)\n",
        "    \n",
        "  def camembert_embedding(self, sentence):\n",
        "    \"\"\"Return sentence CLS embedding computed with the camemBERT model\"\"\"\n",
        "    # Get sentence tokens\n",
        "    tokens = self.model.encode(sentence).to(self.device)\n",
        "\n",
        "    # Pass to model\n",
        "    with torch.no_grad():\n",
        "      encoded_layers = self.model.extract_features(tokens,\n",
        "                                                   return_all_hiddens=True)\n",
        "\n",
        "    token_embeddings = torch.stack(encoded_layers, dim=0)\n",
        "    token_embeddings = torch.squeeze(token_embeddings, dim=1)\n",
        "    sum_vec = torch.sum(token_embeddings[-4:], dim=0)\n",
        "    sentence_embedding = torch.mean(sum_vec,dim=0)\n",
        "    return sentence_embedding.cpu().numpy()\n",
        "\n",
        "  def camembert_text_embedding(self, text):\n",
        "    \"\"\"\n",
        "    Return the camembert model embeddings associated with the text input.\n",
        "    Parameters\n",
        "    ----------\n",
        "      text: numpy array of string | All text sentences      \n",
        "    \"\"\"\n",
        "    embedded_sentences = list(map(self.camembert_embedding, text))\n",
        "\n",
        "    return np.vstack(embedded_sentences)\n",
        "\n",
        "###### \"Cluster\" methods ######\n",
        " def top_similarities(self, reference_embedding, embeddings, nb_top):\n",
        "    \"\"\"\n",
        "    Return the nb_top embeddings indices closer to the reference_embedding.\n",
        "    Parameter\n",
        "    ---------\n",
        "      reference_embedding: np.array | reference embedding for distance.\n",
        "      embeddings: np.ndarray | embeddings to sort according to ref distance.\n",
        "      nb_top: int | number of top indices to return.\n",
        "    \"\"\"\n",
        "\n",
        "    # Compute similarity according to distance to reference.\n",
        "    similarities = self.get_similarities(reference_embedding, embeddings)\n",
        "\n",
        "    # Return nb_top indices\n",
        "    top_indices = np.array(similarities).argsort()[::-1][:nb_top]\n",
        "    return top_indices\n",
        "\n",
        "  def cluster_embeddings(self, nb_clusters, nb_top):\n",
        "    \"\"\"\n",
        "    Perform Kmeans clustering over the text embeddings.\n",
        "    Return:\n",
        "      dict{cluster_id, embeddings_indices}\n",
        "      &\n",
        "      dict{cluster_id, nb_top_embeddings_indices}\n",
        "    \n",
        "    Parameters\n",
        "    ----------\n",
        "      nb_clusters: int | number of clusters.\n",
        "      nb_top: int | number of embbedings closer to cluster centroid to select. \n",
        "    \"\"\"\n",
        "    # Perform Kmeans\n",
        "    Kmean_cluster = KMeans(n_clusters=nb_clusters).fit(self.text_embeddings)\n",
        "    centroid = Kmean_cluster.cluster_centers_\n",
        "    embeddings_cluster_labels = Kmean_cluster.labels_\n",
        "\n",
        "    top_clustered_indices = {}\n",
        "\n",
        "    # Go through each cluster\n",
        "    for cluster_label in range(centroid.shape[0]):\n",
        "      # Get all sentence indices\n",
        "      indices = np.where(embeddings_cluster_labels == cluster_label)[0]\n",
        "\n",
        "      # Get top sentences indices\n",
        "      cluster_embeddings = self.text_embeddings[indices]\n",
        "      top = self.top_similarities(centroid[cluster_label],\n",
        "                                        cluster_embeddings, nb_top)\n",
        "      top_clustered_indices[cluster_label] = indices[top].tolist()\n",
        "\n",
        "    return embeddings_cluster_labels, top_clustered_indices  \n",
        "  \n",
        "  def clustering_summary(self, nb_clusters, nb_top, return_clusters=False):\n",
        "    \"\"\"\n",
        "    Perform clustering summarization method.\n",
        "    Return the summary.\n",
        "    (optional) Return clustering results.\n",
        "    Parameters\n",
        "    ----------\n",
        "      nb_clusters: int | number of clusters.\n",
        "      nb_top: int | number of embbedings closer to cluster centroid to select.\n",
        "      return_clusters: Bool | return clustering results if True.\n",
        "    \"\"\"\n",
        "    # Kmeans clustering\n",
        "    cluster_results = self.cluster_embeddings(nb_clusters, nb_top)\n",
        "\n",
        "    # Get top sentence indices per cluster\n",
        "    _, top_clustered_indices = cluster_results\n",
        "\n",
        "    # Construct the summary\n",
        "    summary_indices = []\n",
        "    for indices in top_clustered_indices.values():\n",
        "      summary_indices += indices\n",
        "    summary = self.text[sorted(summary_indices)]\n",
        "\n",
        "    if return_clusters:\n",
        "      return summary, cluster_results\n",
        "\n",
        "    return summary"
      ],
      "metadata": {
        "id": "bT4J8o1zzl3y"
      },
      "execution_count": null,
      "outputs": []
    },
    {
      "cell_type": "code",
      "source": [
        "def load_preprocess_text(textArticle):\n",
        "    text = \" \".join(textArticle)\n",
        "    tokenizer = nltk.data.load('tokenizers/punkt/PY3/french.pickle')\n",
        "    phrases = tokenizer.tokenize(text)\n",
        "\n",
        "    return np.array(phrases)\n",
        "  \n",
        "nb_sentences = 5\n",
        "\n",
        "text = load_preprocess_text(allArticles)\n",
        "\n",
        "summarizer = Summarizer()\n",
        "summarizer.init_model(log=True)\n",
        "summarizer.fit(text)\n",
        "\n",
        "summary, cluster_results = summarizer.clustering_summary(nb_clusters=nb_sentences, nb_top=2, return_clusters=True)\n",
        "for sentence in summary:\n",
        "    print(sentence)"
      ],
      "metadata": {
        "id": "sa0rz0fV4-lg"
      },
      "execution_count": null,
      "outputs": []
    },
    {
      "cell_type": "markdown",
      "source": [
        "# Clustering : 5 phrases\n",
        "\n",
        "1.   »  A rebours de la position de Jean-Luc Mélenchon, MmeTaubira estimait, elle, dans une tribune au Monde publiée le 29 décembre, que les « convergences » idéologiques à gauche « sont suffisantes pour nous \n",
        "permettre de gouverner ensemble cinq ans »\n",
        "2.   J’appelle à un débat sans tabou que la crise sanitaire ne doit pas étouffer », a encore écrit la candidate de la droite avant de formuler ses vœux\n",
        "3. Mais, évidemment, la majorité présidentielle s’imposera de respecter les jauges fixées dans tous ses événements », a écrit sur Twitter le président de l’Assemblée nationale et cadre de la majorité présidentielle, Richard Ferrand\n",
        "4. La veille, dans sa vidéo où elle évoque sa possible candidature, l’ancienne ministre de la justice avait souligné l’importance de la « cohésion sociale partout, sans exclusive ni exclusion »\n",
        "5. «Il est parfaitement normal que des candidats en campagne puissent se rendre auprès des forces armées et rendre publique leur visite pour tous les Français», a expliqué Reconquête, dans un communiqué\n",
        "\n",
        "### Analyse\n",
        "Il semble que nous ayons juste un top des citations les plus employées.\n",
        "On réessaye en supprimant les citations du corpus.\n",
        "Vraisemblablement il nous faut du coreRefence"
      ],
      "metadata": {
        "id": "zRPMVqJk0pxb"
      }
    },
    {
      "cell_type": "code",
      "source": [
        "import re\n",
        "df[\"contentCit\"] = df[\"content\"].apply(lambda x: re.sub(\"\\«.*\\»\", \"\", x))"
      ],
      "metadata": {
        "id": "_izlLdjFzl6B"
      },
      "execution_count": 41,
      "outputs": []
    },
    {
      "cell_type": "code",
      "source": [
        "allArticles = df[\"contentCit\"]"
      ],
      "metadata": {
        "id": "m-7MTl6d7Cj9"
      },
      "execution_count": null,
      "outputs": []
    },
    {
      "cell_type": "markdown",
      "source": [
        "# Clustering sans citations: 6 phrases\n",
        "1. Le 11 décembre, la candidate du parti Les Républicains (LR) fraîchement désignée par un vote en congrès, Valérie Pécresse avait dû restreindre son meeting d’investiture à la seule présence des cadres du parti, annulant le grand rassemblement de 5 000 personnes initialement prévu, porte de Versailles\n",
        "2. Alors que le nombre de cas détectés ne cesse de croître, le candidat communiste Fabien Roussel ainsi que le candidat de LFI Jean-Luc Mélenchon ont aussi affirmé qu’ils distribueront des masques FFP2 gratuitement à l’entrée de leurs meetings\n",
        "3. Avec une ligne politique qu'il a tracée depuis son adresse aux Français le 12 juillet dernier : mettre coûte que coûte la pression sur les quelque cinq millions de Français non-vaccinés\n",
        "4. Invité ce lundi sur France Inter, le chef de file de la France Insoumise a redit son opposition à l'instauration d'une telle mesure pour ses rassemblements, précisant en revanche que des masques FFP2 seraient distribués aux participants lors de ses meetings\n",
        "5. Au lendemain de la dégradation du domicile de l'ancienne finaliste de la primaire écologiste Sandrine Rousseau par, selon elle, des , avait écrit Éric Zemmour via un communiqué\n",
        "6. En vue de l'élection présidentielle, le parti présidentiel affûte ses armes\n",
        "\n",
        "### Analyse\n",
        "Le resultat semble cohérent pour les 4 premieres, la cinquieme par contre n'est pas compréhensible car les citations manquent et la sixieme ne porte pas les éléments clefs.\n",
        "\n",
        "De plus, le clustering semble ne pas trés bien marcher. Chaque cluster doit donner deux phrases, mais on peine a trouver deux phrases en accord\n",
        "\n",
        "Ces résultats sont trés peu exploitables.\n",
        "\n",
        "# Coreference \n",
        "\n",
        "Nos résultats manquants de sens, je pense que rajouter de la coreference pourrait rendre le résumé plus probant.\n",
        "Cela permet de rendre du contexte aux pronoms notameent.\n",
        "\n",
        "Comme ecris ci dessous, mon implémentation de coreference fais planter collab. Je n'ai donc pas réussi a implémenter cette méthode au code précédent, c'est donc pour cela que nous utiliserons \"**bert-extractive-summarize**\" qui est allie clustering et coreference."
      ],
      "metadata": {
        "id": "5CvFeKIe7jSc"
      }
    },
    {
      "cell_type": "code",
      "source": [
        "from summarizer import Summarizer\n",
        "from summarizer.text_processors.coreference_handler import CoreferenceHandler\n",
        "\n",
        "handler = CoreferenceHandler(greedyness=.4)\n",
        "\n",
        "model = Summarizer(sentence_handler=handler)#, custom_model=camembert, custom_tokenizer=tokenizer)\n",
        "result = model(allArticles, num_sentences=5)\n",
        "\n",
        "# Fais redemarrer le kernel de colab..."
      ],
      "metadata": {
        "id": "_rxKuE9AcDKs"
      },
      "execution_count": null,
      "outputs": []
    },
    {
      "cell_type": "code",
      "source": [
        "from summarizer import Summarizer\n",
        "from transformers import *\n",
        "\n",
        "# You can replace \"camembert-base\" with any other model from the table, e.g. \"camembert/camembert-large\".\n",
        "custom_config = AutoConfig.from_pretrained('camembert-base')\n",
        "custom_config.output_hidden_states=True\n",
        "tokenizer = CamembertTokenizer.from_pretrained(\"camembert-base\")\n",
        "camembert = CamembertModel.from_pretrained(\"camembert-base\", config=custom_config)\n",
        "model = Summarizer(custom_model=camembert, custom_tokenizer=tokenizer)\n",
        "result = model(allArticles, num_sentences=6)\n",
        "print(\"\".join(result))\n",
        "\n"
      ],
      "metadata": {
        "id": "jMVkuCfmEAKa"
      },
      "execution_count": null,
      "outputs": []
    },
    {
      "cell_type": "markdown",
      "source": [
        "## bert-extractive-summarize - Sans citation\n",
        "1. Jean-Luc Mélenchon, qui embarque pour sa troisième élection présidentielle, n’en est pas non plus à son coup d’essai en termes de déploiement d’innovations technologiques. \n",
        "2. A moins de cent jours de l’élection présidentielle, le candidat de la France insoumise a une nouvelle fois rejeté, lundi 3 janvier sur France Inter, l’appel lancé par Anne Hidalgo et Christiane Taubira à participer à un scrutin pour éviter les multiples postulants à gauche. \n",
        "3. Avec une ligne politique qu'il a tracée depuis son adresse aux Français le 12 juillet dernier : mettre coûte que coûte la pression sur les quelque cinq millions de Français non-vaccinés. \n",
        "4. : C'est au plus tard le quatrième vendredi avant le scrutin, soit le 11 mars 2022, que le gouvernement doit publier la liste officielle des candidats, après validation par le Conseil constitutionnel. \n",
        "5. Entre le 11 et le 28 mars, c'est ensuite la règle de l'équité dans la présence médiatique s'applique entre les candidats. \n",
        "6. Sa présence sous l'édifice, sans le drapeau français, a suscité les réactions indignées de trois candidats à l'élection présidentielle : Marine Le Pen, Éric Zemmour et Valérie Pécresse. ,\n",
        "\n",
        "## Analyse\n",
        "\n",
        "Sans citation, le résumé est bien plus lisible que celui que nous avions précedement.\n",
        "\n",
        "Je pense que ce résultat est du à la partie de Corereference.\n",
        "En effet, les deux premieres phrases parlent de la gauche/france insoumise et sont bien mis en relation alors qu'il n'y a pas de mots en communs entre les deux.\n",
        "Pour la sixieme il ne manque le mot \"drapeau européen\" pour faire sens, integrer coreference eux réponses est surement une bonne idée.\n",
        "\n",
        "## bert-extractive-summarize - Avec citation\n",
        "1. Jean-Luc Mélenchon, qui embarque pour sa troisième élection présidentielle, n’en est pas non plus à son coup d’essai en termes de déploiement d’innovations technologiques. \n",
        "2. Comme chaque année, le président de la République donnera les siens à 20 heures, mais ses opposants ont préféré prendre les devants : plusieurs candidats à l’élection présidentielle ont devancé Emmanuel Macron – qui n’est toujours pas officiellement candidat – en présentant, dès la fin de la matinée, vendredi 31 décembre, leurs vœux pour 2022. \n",
        "3. « Il y a en coulisse une manière de fonctionner de toute une mouvance qui accompagne certains candidats, et en l’occurrence Eric Zemmour, qui vise à intimider quiconque a une parole opposée à eux », s’inquiète le député « insoumis », qui demande au polémiste de « condamner la vidéo » et aux pouvoirs publics « d’envoyer un signal clair » à un peu moins de quatre mois de la présidentielle. \n",
        "4. Arnaud Montebourg, ancien ministre du redressement productif (2012-2014) et candidat à l’élection présidentielle de 2022, qui a appelé à l’union de la gauche derrière un candidat unique mercredi dernier, et a depuis tenté de démarcher chacun des prétendants, a accueilli la nouvelle avec entrain dans un tweet : « Christiane Taubira propose de nous unir (…). \n",
        "5. Le centriste agite le chiffon rouge lorsqu’il affirme que «l’année 1981 sera encore une année difficile» : «Nous ne pouvons pas compter en 1981 sur des facilités venues de l’extérieur. \n",
        "6. On ne va pas se battre sur le taux de TVA, ou je ne sais quelle virgule de telle loi...», a-t-il exhorté, réclamant une «union sacrée» de tous les candidats qui s'opposent aux restrictions sanitaires.\n",
        "\n",
        "\n",
        "\n",
        "## Analyse\n",
        "Avec citation, on retrouve encore une fois qq chose d'assez chargé, et sans beaucoup de sens.\n",
        "Typiquement les deux dernieres manque de contexte.\n",
        "\n",
        "\n",
        "\n",
        "\n",
        "\n"
      ],
      "metadata": {
        "id": "-oaVCedNLnkL"
      }
    },
    {
      "cell_type": "markdown",
      "source": [
        "# Conclusion\n",
        "\n",
        "Je trouve ce test assez prometteur. Voici quelques pistes que je compte explorer afin de réaliser un condensé de news cohérent.\n",
        "\n",
        "Les elections est un sujet assez particulier avec toutes ces citations. Je pense que le meilleur moyen de gérer cela est de laisser les citations au model, et de ne garder que les phrases sans citations par cluster.\n",
        "\n",
        "Appliquer la coreference sur les phrase trouver afin de leur rendre leur contexte aiderait aussi grandement à la compréhension.\n",
        "\n",
        "\n",
        "De plus, un plus grand corpus permettra surmement de mieux représenter tout le corps politique car pour l'instant, la gauche et la présidence sont les plus représentés, autant dans nos résumés que dans les nuages de mots suivant:"
      ],
      "metadata": {
        "id": "I_3WvxjeP9Qu"
      }
    },
    {
      "cell_type": "code",
      "source": [
        "from nltk.corpus import stopwords\n",
        "from wordcloud import WordCloud\n",
        "import matplotlib.pyplot as plt\n",
        "nltk.download(\"stopwords\")\n",
        "\n",
        "wordcloud = WordCloud(background_color = 'white', stopwords = stop_words, max_words = 50).generate(allArticles)\n",
        "plt.imshow(wordcloud)\n",
        "plt.axis(\"off\")\n",
        "plt.show()"
      ],
      "metadata": {
        "colab": {
          "base_uri": "https://localhost:8080/",
          "height": 198
        },
        "id": "ezOv7RGnX7Yu",
        "outputId": "e15dc4fe-9595-4bd1-b8d6-b88059d8026e"
      },
      "execution_count": 91,
      "outputs": [
        {
          "output_type": "display_data",
          "data": {
            "image/png": "[encoded data removed]",
            "text/plain": [
              "<Figure size 432x288 with 1 Axes>"
            ]
          },
          "metadata": {
            "needs_background": "light"
          }
        }
      ]
    },
    {
      "cell_type": "code",
      "source": [
        "stop_words_ex = [\"politique\", \"Français\", \"candidat\", \"cette\",\"plus\", \"être\", \"tout\", \"tous\", \"toutes\", \"c'est\", \"faire\", \"avant\", \"aussi\", \"après\", \"lors\", \"depuis\"]\n",
        "wordcloud = WordCloud(background_color = 'white', stopwords = stop_words + stop_words_ex, max_words = 50).generate(allArticles)\n",
        "plt.imshow(wordcloud)\n",
        "plt.axis(\"off\")\n",
        "plt.show()"
      ],
      "metadata": {
        "colab": {
          "base_uri": "https://localhost:8080/",
          "height": 198
        },
        "id": "Sez8hsDgZUuZ",
        "outputId": "17159898-288f-4daf-b842-2c61f8802e49"
      },
      "execution_count": 94,
      "outputs": [
        {
          "output_type": "display_data",
          "data": {
            "image/png": "[encoded data removed]",
            "text/plain": [
              "<Figure size 432x288 with 1 Axes>"
            ]
          },
          "metadata": {
            "needs_background": "light"
          }
        }
      ]
    },
    {
      "cell_type": "markdown",
      "source": [
        "On remarque, surtout sur le deuxieme nuage ou plus de mots sont éliminés, qu'Emannuel Macron est sur-représenté. Son absence des résumés est surement dûe au fait que chaque phrase parlant du gouvernement, etait située proche des mots \"Emannuel Macron\"."
      ],
      "metadata": {
        "id": "3fpWvFnRX9xy"
      }
    },
    {
      "cell_type": "markdown",
      "source": [
        "# Références\n",
        "\n",
        "- https://piaf.etalab.studio/francophonie-ia-english/\n",
        "- https://lesdieuxducode.com/blog/2019/4/bert--le-transformer-model-qui-sentraine-et-qui-represente\n",
        "- https://github.com/dmmiller612/bert-extractive-summarizer\n",
        "- https://hal.archives-ouvertes.fr/hal-02784755/file/151.pdf\n",
        "- https://github.com/QuentinGib/WebNews_Summary/blob/main/LeMonde_Scrapping.ipynb\n",
        "- https://github.com/ialifinaritra/Text_Summarization/blob/main/Summarizer.py\n",
        "- https://datascientest.com/wordcloud-python\n",
        "- https://huggingface.co/camembert-base"
      ],
      "metadata": {
        "id": "zCX6JjKn-Q5k"
      }
    },
    {
      "cell_type": "code",
      "source": [
        ""
      ],
      "metadata": {
        "id": "SOc7wGIe-WkI"
      },
      "execution_count": null,
      "outputs": []
    }
  ]
}